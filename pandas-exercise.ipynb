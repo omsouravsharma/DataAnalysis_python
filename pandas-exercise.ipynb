{
 "cells": [
  {
   "cell_type": "code",
   "execution_count": 37,
   "id": "95a8cbcb",
   "metadata": {},
   "outputs": [],
   "source": [
    "import pandas as pd\n",
    "import numpy as np"
   ]
  },
  {
   "cell_type": "code",
   "execution_count": 38,
   "id": "9b719ca4",
   "metadata": {},
   "outputs": [],
   "source": [
    "df = pd.read_csv('data/adult.data.csv')"
   ]
  },
  {
   "cell_type": "code",
   "execution_count": 39,
   "id": "5469b334",
   "metadata": {},
   "outputs": [
    {
     "data": {
      "text/html": [
       "<div>\n",
       "<style scoped>\n",
       "    .dataframe tbody tr th:only-of-type {\n",
       "        vertical-align: middle;\n",
       "    }\n",
       "\n",
       "    .dataframe tbody tr th {\n",
       "        vertical-align: top;\n",
       "    }\n",
       "\n",
       "    .dataframe thead th {\n",
       "        text-align: right;\n",
       "    }\n",
       "</style>\n",
       "<table border=\"1\" class=\"dataframe\">\n",
       "  <thead>\n",
       "    <tr style=\"text-align: right;\">\n",
       "      <th></th>\n",
       "      <th>age</th>\n",
       "      <th>workclass</th>\n",
       "      <th>fnlwgt</th>\n",
       "      <th>education</th>\n",
       "      <th>education-num</th>\n",
       "      <th>marital-status</th>\n",
       "      <th>occupation</th>\n",
       "      <th>relationship</th>\n",
       "      <th>race</th>\n",
       "      <th>sex</th>\n",
       "      <th>capital-gain</th>\n",
       "      <th>capital-loss</th>\n",
       "      <th>hours-per-week</th>\n",
       "      <th>native-country</th>\n",
       "      <th>salary</th>\n",
       "    </tr>\n",
       "  </thead>\n",
       "  <tbody>\n",
       "    <tr>\n",
       "      <th>0</th>\n",
       "      <td>39</td>\n",
       "      <td>State-gov</td>\n",
       "      <td>77516</td>\n",
       "      <td>Bachelors</td>\n",
       "      <td>13</td>\n",
       "      <td>Never-married</td>\n",
       "      <td>Adm-clerical</td>\n",
       "      <td>Not-in-family</td>\n",
       "      <td>White</td>\n",
       "      <td>Male</td>\n",
       "      <td>2174</td>\n",
       "      <td>0</td>\n",
       "      <td>40</td>\n",
       "      <td>United-States</td>\n",
       "      <td>&lt;=50K</td>\n",
       "    </tr>\n",
       "    <tr>\n",
       "      <th>1</th>\n",
       "      <td>50</td>\n",
       "      <td>Self-emp-not-inc</td>\n",
       "      <td>83311</td>\n",
       "      <td>Bachelors</td>\n",
       "      <td>13</td>\n",
       "      <td>Married-civ-spouse</td>\n",
       "      <td>Exec-managerial</td>\n",
       "      <td>Husband</td>\n",
       "      <td>White</td>\n",
       "      <td>Male</td>\n",
       "      <td>0</td>\n",
       "      <td>0</td>\n",
       "      <td>13</td>\n",
       "      <td>United-States</td>\n",
       "      <td>&lt;=50K</td>\n",
       "    </tr>\n",
       "    <tr>\n",
       "      <th>2</th>\n",
       "      <td>38</td>\n",
       "      <td>Private</td>\n",
       "      <td>215646</td>\n",
       "      <td>HS-grad</td>\n",
       "      <td>9</td>\n",
       "      <td>Divorced</td>\n",
       "      <td>Handlers-cleaners</td>\n",
       "      <td>Not-in-family</td>\n",
       "      <td>White</td>\n",
       "      <td>Male</td>\n",
       "      <td>0</td>\n",
       "      <td>0</td>\n",
       "      <td>40</td>\n",
       "      <td>United-States</td>\n",
       "      <td>&lt;=50K</td>\n",
       "    </tr>\n",
       "    <tr>\n",
       "      <th>3</th>\n",
       "      <td>53</td>\n",
       "      <td>Private</td>\n",
       "      <td>234721</td>\n",
       "      <td>11th</td>\n",
       "      <td>7</td>\n",
       "      <td>Married-civ-spouse</td>\n",
       "      <td>Handlers-cleaners</td>\n",
       "      <td>Husband</td>\n",
       "      <td>Black</td>\n",
       "      <td>Male</td>\n",
       "      <td>0</td>\n",
       "      <td>0</td>\n",
       "      <td>40</td>\n",
       "      <td>United-States</td>\n",
       "      <td>&lt;=50K</td>\n",
       "    </tr>\n",
       "    <tr>\n",
       "      <th>4</th>\n",
       "      <td>28</td>\n",
       "      <td>Private</td>\n",
       "      <td>338409</td>\n",
       "      <td>Bachelors</td>\n",
       "      <td>13</td>\n",
       "      <td>Married-civ-spouse</td>\n",
       "      <td>Prof-specialty</td>\n",
       "      <td>Wife</td>\n",
       "      <td>Black</td>\n",
       "      <td>Female</td>\n",
       "      <td>0</td>\n",
       "      <td>0</td>\n",
       "      <td>40</td>\n",
       "      <td>Cuba</td>\n",
       "      <td>&lt;=50K</td>\n",
       "    </tr>\n",
       "    <tr>\n",
       "      <th>...</th>\n",
       "      <td>...</td>\n",
       "      <td>...</td>\n",
       "      <td>...</td>\n",
       "      <td>...</td>\n",
       "      <td>...</td>\n",
       "      <td>...</td>\n",
       "      <td>...</td>\n",
       "      <td>...</td>\n",
       "      <td>...</td>\n",
       "      <td>...</td>\n",
       "      <td>...</td>\n",
       "      <td>...</td>\n",
       "      <td>...</td>\n",
       "      <td>...</td>\n",
       "      <td>...</td>\n",
       "    </tr>\n",
       "    <tr>\n",
       "      <th>32556</th>\n",
       "      <td>27</td>\n",
       "      <td>Private</td>\n",
       "      <td>257302</td>\n",
       "      <td>Assoc-acdm</td>\n",
       "      <td>12</td>\n",
       "      <td>Married-civ-spouse</td>\n",
       "      <td>Tech-support</td>\n",
       "      <td>Wife</td>\n",
       "      <td>White</td>\n",
       "      <td>Female</td>\n",
       "      <td>0</td>\n",
       "      <td>0</td>\n",
       "      <td>38</td>\n",
       "      <td>United-States</td>\n",
       "      <td>&lt;=50K</td>\n",
       "    </tr>\n",
       "    <tr>\n",
       "      <th>32557</th>\n",
       "      <td>40</td>\n",
       "      <td>Private</td>\n",
       "      <td>154374</td>\n",
       "      <td>HS-grad</td>\n",
       "      <td>9</td>\n",
       "      <td>Married-civ-spouse</td>\n",
       "      <td>Machine-op-inspct</td>\n",
       "      <td>Husband</td>\n",
       "      <td>White</td>\n",
       "      <td>Male</td>\n",
       "      <td>0</td>\n",
       "      <td>0</td>\n",
       "      <td>40</td>\n",
       "      <td>United-States</td>\n",
       "      <td>&gt;50K</td>\n",
       "    </tr>\n",
       "    <tr>\n",
       "      <th>32558</th>\n",
       "      <td>58</td>\n",
       "      <td>Private</td>\n",
       "      <td>151910</td>\n",
       "      <td>HS-grad</td>\n",
       "      <td>9</td>\n",
       "      <td>Widowed</td>\n",
       "      <td>Adm-clerical</td>\n",
       "      <td>Unmarried</td>\n",
       "      <td>White</td>\n",
       "      <td>Female</td>\n",
       "      <td>0</td>\n",
       "      <td>0</td>\n",
       "      <td>40</td>\n",
       "      <td>United-States</td>\n",
       "      <td>&lt;=50K</td>\n",
       "    </tr>\n",
       "    <tr>\n",
       "      <th>32559</th>\n",
       "      <td>22</td>\n",
       "      <td>Private</td>\n",
       "      <td>201490</td>\n",
       "      <td>HS-grad</td>\n",
       "      <td>9</td>\n",
       "      <td>Never-married</td>\n",
       "      <td>Adm-clerical</td>\n",
       "      <td>Own-child</td>\n",
       "      <td>White</td>\n",
       "      <td>Male</td>\n",
       "      <td>0</td>\n",
       "      <td>0</td>\n",
       "      <td>20</td>\n",
       "      <td>United-States</td>\n",
       "      <td>&lt;=50K</td>\n",
       "    </tr>\n",
       "    <tr>\n",
       "      <th>32560</th>\n",
       "      <td>52</td>\n",
       "      <td>Self-emp-inc</td>\n",
       "      <td>287927</td>\n",
       "      <td>HS-grad</td>\n",
       "      <td>9</td>\n",
       "      <td>Married-civ-spouse</td>\n",
       "      <td>Exec-managerial</td>\n",
       "      <td>Wife</td>\n",
       "      <td>White</td>\n",
       "      <td>Female</td>\n",
       "      <td>15024</td>\n",
       "      <td>0</td>\n",
       "      <td>40</td>\n",
       "      <td>United-States</td>\n",
       "      <td>&gt;50K</td>\n",
       "    </tr>\n",
       "  </tbody>\n",
       "</table>\n",
       "<p>32561 rows × 15 columns</p>\n",
       "</div>"
      ],
      "text/plain": [
       "       age         workclass  fnlwgt   education  education-num  \\\n",
       "0       39         State-gov   77516   Bachelors             13   \n",
       "1       50  Self-emp-not-inc   83311   Bachelors             13   \n",
       "2       38           Private  215646     HS-grad              9   \n",
       "3       53           Private  234721        11th              7   \n",
       "4       28           Private  338409   Bachelors             13   \n",
       "...    ...               ...     ...         ...            ...   \n",
       "32556   27           Private  257302  Assoc-acdm             12   \n",
       "32557   40           Private  154374     HS-grad              9   \n",
       "32558   58           Private  151910     HS-grad              9   \n",
       "32559   22           Private  201490     HS-grad              9   \n",
       "32560   52      Self-emp-inc  287927     HS-grad              9   \n",
       "\n",
       "           marital-status         occupation   relationship   race     sex  \\\n",
       "0           Never-married       Adm-clerical  Not-in-family  White    Male   \n",
       "1      Married-civ-spouse    Exec-managerial        Husband  White    Male   \n",
       "2                Divorced  Handlers-cleaners  Not-in-family  White    Male   \n",
       "3      Married-civ-spouse  Handlers-cleaners        Husband  Black    Male   \n",
       "4      Married-civ-spouse     Prof-specialty           Wife  Black  Female   \n",
       "...                   ...                ...            ...    ...     ...   \n",
       "32556  Married-civ-spouse       Tech-support           Wife  White  Female   \n",
       "32557  Married-civ-spouse  Machine-op-inspct        Husband  White    Male   \n",
       "32558             Widowed       Adm-clerical      Unmarried  White  Female   \n",
       "32559       Never-married       Adm-clerical      Own-child  White    Male   \n",
       "32560  Married-civ-spouse    Exec-managerial           Wife  White  Female   \n",
       "\n",
       "       capital-gain  capital-loss  hours-per-week native-country salary  \n",
       "0              2174             0              40  United-States  <=50K  \n",
       "1                 0             0              13  United-States  <=50K  \n",
       "2                 0             0              40  United-States  <=50K  \n",
       "3                 0             0              40  United-States  <=50K  \n",
       "4                 0             0              40           Cuba  <=50K  \n",
       "...             ...           ...             ...            ...    ...  \n",
       "32556             0             0              38  United-States  <=50K  \n",
       "32557             0             0              40  United-States   >50K  \n",
       "32558             0             0              40  United-States  <=50K  \n",
       "32559             0             0              20  United-States  <=50K  \n",
       "32560         15024             0              40  United-States   >50K  \n",
       "\n",
       "[32561 rows x 15 columns]"
      ]
     },
     "execution_count": 39,
     "metadata": {},
     "output_type": "execute_result"
    }
   ],
   "source": [
    "df"
   ]
  },
  {
   "cell_type": "code",
   "execution_count": 79,
   "id": "4e12e921",
   "metadata": {},
   "outputs": [
    {
     "data": {
      "text/plain": [
       "White                 27816\n",
       "Black                  3124\n",
       "Asian-Pac-Islander     1039\n",
       "Amer-Indian-Eskimo      311\n",
       "Other                   271\n",
       "Name: race, dtype: int64"
      ]
     },
     "execution_count": 79,
     "metadata": {},
     "output_type": "execute_result"
    }
   ],
   "source": [
    "df['race'].value_counts()"
   ]
  },
  {
   "cell_type": "code",
   "execution_count": 69,
   "id": "4e2b45ed",
   "metadata": {},
   "outputs": [
    {
     "data": {
      "text/plain": [
       "[27816, 3124, 1039, 311, 271]"
      ]
     },
     "execution_count": 69,
     "metadata": {},
     "output_type": "execute_result"
    }
   ],
   "source": [
    "a = list(df['race'].value_counts())\n",
    "a"
   ]
  },
  {
   "cell_type": "code",
   "execution_count": 73,
   "id": "e54f902f",
   "metadata": {},
   "outputs": [
    {
     "data": {
      "text/plain": [
       "list"
      ]
     },
     "execution_count": 73,
     "metadata": {},
     "output_type": "execute_result"
    }
   ],
   "source": [
    "type(a)"
   ]
  },
  {
   "cell_type": "code",
   "execution_count": 42,
   "id": "3084710f",
   "metadata": {},
   "outputs": [
    {
     "data": {
      "text/plain": [
       "[27816, 3124, 1039, 311, 271]"
      ]
     },
     "execution_count": 42,
     "metadata": {},
     "output_type": "execute_result"
    }
   ],
   "source": [
    "pd.Series(df['race'].value_counts()).to_list()"
   ]
  },
  {
   "cell_type": "code",
   "execution_count": 53,
   "id": "406be2a0",
   "metadata": {},
   "outputs": [
    {
     "data": {
      "text/plain": [
       "39.4"
      ]
     },
     "execution_count": 53,
     "metadata": {},
     "output_type": "execute_result"
    }
   ],
   "source": [
    "round(df[df['sex'] =='Male']['age'].mean(),1)"
   ]
  },
  {
   "cell_type": "code",
   "execution_count": 7,
   "id": "d7f08289",
   "metadata": {},
   "outputs": [
    {
     "data": {
      "text/plain": [
       "5355"
      ]
     },
     "execution_count": 7,
     "metadata": {},
     "output_type": "execute_result"
    }
   ],
   "source": [
    "df[df['education'] == 'Bachelors']['education'].count()\n"
   ]
  },
  {
   "cell_type": "code",
   "execution_count": 8,
   "id": "65060905",
   "metadata": {},
   "outputs": [
    {
     "data": {
      "text/plain": [
       "32561"
      ]
     },
     "execution_count": 8,
     "metadata": {},
     "output_type": "execute_result"
    }
   ],
   "source": [
    "df['education'].count()"
   ]
  },
  {
   "cell_type": "code",
   "execution_count": 56,
   "id": "579bb934",
   "metadata": {},
   "outputs": [
    {
     "data": {
      "text/plain": [
       "16.4"
      ]
     },
     "execution_count": 56,
     "metadata": {},
     "output_type": "execute_result"
    }
   ],
   "source": [
    "round((df[df['education'] == 'Bachelors']['education'].count()/df['education'].count())*100,1)\n"
   ]
  },
  {
   "cell_type": "code",
   "execution_count": 57,
   "id": "2ea4bd4d",
   "metadata": {},
   "outputs": [
    {
     "data": {
      "text/plain": [
       "7491"
      ]
     },
     "execution_count": 57,
     "metadata": {},
     "output_type": "execute_result"
    }
   ],
   "source": [
    "# What percentage of people with advanced education (`Bachelors`, `Masters`, or `Doctorate`) make more than 50K?\n",
    "#df.query('a == 4 & b != 2')\n",
    "df[\n",
    "        (df['education'] == 'Bachelors')| \n",
    "        (df['education'] == 'Masters') |\n",
    "        (df['education'] == 'Doctorate')\n",
    "  ]['education'].count()\n",
    "\n"
   ]
  },
  {
   "cell_type": "code",
   "execution_count": 11,
   "id": "8f7dd551",
   "metadata": {},
   "outputs": [],
   "source": [
    "#  df[\n",
    "#      (df['salary'] == '>50K')\n",
    "#      & \n",
    "#      (df[\n",
    "#         (df['education'] == 'Bachelors')| \n",
    "#         (df['education'] == 'Masters') |\n",
    "#         (df['education'] == 'Doctorate')])\n",
    "#   ]"
   ]
  },
  {
   "cell_type": "code",
   "execution_count": 58,
   "id": "e53198d8",
   "metadata": {},
   "outputs": [
    {
     "data": {
      "text/plain": [
       "3486"
      ]
     },
     "execution_count": 58,
     "metadata": {},
     "output_type": "execute_result"
    }
   ],
   "source": [
    "df2 =  df[\n",
    "        (df['education'] == 'Bachelors')| \n",
    "        (df['education'] == 'Masters') |\n",
    "        (df['education'] == 'Doctorate')]\n",
    "df2[df2['salary'] == '>50K']['salary'].count()"
   ]
  },
  {
   "cell_type": "code",
   "execution_count": 63,
   "id": "645c9054",
   "metadata": {},
   "outputs": [
    {
     "data": {
      "text/plain": [
       "46.5"
      ]
     },
     "execution_count": 63,
     "metadata": {},
     "output_type": "execute_result"
    }
   ],
   "source": [
    "round((df2[df2['salary'] == '>50K']['salary'].count()/len(df2))*100,1)"
   ]
  },
  {
   "cell_type": "code",
   "execution_count": 66,
   "id": "f461afe5",
   "metadata": {},
   "outputs": [
    {
     "data": {
      "text/plain": [
       "4355"
      ]
     },
     "execution_count": 66,
     "metadata": {},
     "output_type": "execute_result"
    }
   ],
   "source": [
    "df3 =  df[\n",
    "        (df['education'] != 'Bachelors')&\n",
    "        (df['education'] != 'Masters') &\n",
    "        (df['education'] != 'Doctorate')]\n",
    "df3[df3['salary'] == '>50K']['salary'].count()"
   ]
  },
  {
   "cell_type": "code",
   "execution_count": 68,
   "id": "6dbb21db",
   "metadata": {},
   "outputs": [
    {
     "data": {
      "text/plain": [
       "17.4"
      ]
     },
     "execution_count": 68,
     "metadata": {},
     "output_type": "execute_result"
    }
   ],
   "source": [
    "round((df3[df3['salary'] == '>50K']['salary'].count()/len(df3))*100,1)"
   ]
  },
  {
   "cell_type": "code",
   "execution_count": 80,
   "id": "a8a2357e",
   "metadata": {},
   "outputs": [
    {
     "data": {
      "text/plain": [
       "29075"
      ]
     },
     "execution_count": 80,
     "metadata": {},
     "output_type": "execute_result"
    }
   ],
   "source": [
    "(df['education'].count()) - (df2[df2['salary'] == '>50K']['salary'].count())"
   ]
  },
  {
   "cell_type": "code",
   "execution_count": 61,
   "id": "2711f2ac",
   "metadata": {},
   "outputs": [
    {
     "data": {
      "text/plain": [
       "46.535843011613935"
      ]
     },
     "execution_count": 61,
     "metadata": {},
     "output_type": "execute_result"
    }
   ],
   "source": [
    "3486*100/7491"
   ]
  },
  {
   "cell_type": "code",
   "execution_count": 14,
   "id": "49de5361",
   "metadata": {},
   "outputs": [
    {
     "data": {
      "text/plain": [
       "10.706059396210192"
      ]
     },
     "execution_count": 14,
     "metadata": {},
     "output_type": "execute_result"
    }
   ],
   "source": [
    "(df2[df2['salary'] == '>50K']['salary'].count()/df['education'].count())*100"
   ]
  },
  {
   "cell_type": "code",
   "execution_count": 15,
   "id": "42af46a9",
   "metadata": {},
   "outputs": [
    {
     "data": {
      "text/plain": [
       "89.2939406037898"
      ]
     },
     "execution_count": 15,
     "metadata": {},
     "output_type": "execute_result"
    }
   ],
   "source": [
    "(((df['education'].count()) - (df2[df2['salary'] == '>50K']['salary'].count()))/df['education'].count())*100"
   ]
  },
  {
   "cell_type": "code",
   "execution_count": 16,
   "id": "b28b2f0b",
   "metadata": {},
   "outputs": [
    {
     "data": {
      "text/plain": [
       "100.0"
      ]
     },
     "execution_count": 16,
     "metadata": {},
     "output_type": "execute_result"
    }
   ],
   "source": [
    "89.2939406037898+10.706059396210192"
   ]
  },
  {
   "cell_type": "code",
   "execution_count": 17,
   "id": "d1490b85",
   "metadata": {},
   "outputs": [],
   "source": [
    "#((df[(df['hours-per-week']== df['hours-per-week'].min()) & (df['salary']== '>50K')])/(len(df)))*100"
   ]
  },
  {
   "cell_type": "code",
   "execution_count": 131,
   "id": "f5225d21",
   "metadata": {
    "scrolled": false
   },
   "outputs": [
    {
     "data": {
      "text/plain": [
       "20"
      ]
     },
     "execution_count": 131,
     "metadata": {},
     "output_type": "execute_result"
    }
   ],
   "source": [
    "(df['hours-per-week']== df['hours-per-week'].min()).sum()"
   ]
  },
  {
   "cell_type": "code",
   "execution_count": 137,
   "id": "5edef1dc",
   "metadata": {},
   "outputs": [
    {
     "data": {
      "text/plain": [
       "10.0"
      ]
     },
     "execution_count": 137,
     "metadata": {},
     "output_type": "execute_result"
    }
   ],
   "source": [
    "round((((df['hours-per-week']== df['hours-per-week'].min()) & (df['salary']== '>50K')).sum())/(df['hours-per-week']== df['hours-per-week'].min()).sum()*100,1)\n",
    "    "
   ]
  },
  {
   "cell_type": "raw",
   "id": "a71987cd",
   "metadata": {},
   "source": []
  },
  {
   "cell_type": "code",
   "execution_count": 102,
   "id": "7d63e887",
   "metadata": {},
   "outputs": [
    {
     "data": {
      "text/plain": [
       "41.86046511627907"
      ]
     },
     "execution_count": 102,
     "metadata": {},
     "output_type": "execute_result"
    }
   ],
   "source": [
    "p = (df[df['salary'] =='>50K']['native-country'].value_counts()\n",
    "/df['native-country'].value_counts()*100).sort_values(ascending=False)\n",
    "p[0]"
   ]
  },
  {
   "cell_type": "code",
   "execution_count": 144,
   "id": "a81b13fc",
   "metadata": {},
   "outputs": [
    {
     "data": {
      "text/plain": [
       "'Prof-specialty'"
      ]
     },
     "execution_count": 144,
     "metadata": {},
     "output_type": "execute_result"
    }
   ],
   "source": [
    "df[(df['salary'] =='>50K')& (df['native-country']=='India')]['occupation'].value_counts().index[0]"
   ]
  },
  {
   "cell_type": "code",
   "execution_count": 103,
   "id": "d10ad468",
   "metadata": {},
   "outputs": [],
   "source": [
    "# # print(S1)\n",
    "\n",
    "# df_country = df[df['salary']=='>50K'].groupby('native-country',as_index=False).size()\n",
    "\n",
    "# df4 = df_country.sort_values(by='size', ascending=False)\n",
    "# # ((df4['size'])/(df_country['size'].sum()))*100\n",
    "# df4\n",
    "\n",
    "\n",
    "\n"
   ]
  },
  {
   "cell_type": "code",
   "execution_count": 104,
   "id": "ccc4368b",
   "metadata": {},
   "outputs": [],
   "source": [
    "# totalcount=df[df['salary']=='>50K'].count().iloc[0]\n",
    "# df1 = df[df['salary']=='>50K'].groupby('native-country',as_index=False).size()\n",
    "# print(df1)\n",
    "# df1.columns=['country','50Kcount']\n",
    "# df1['percentcount']=df1['50Kcount']/totalcount*100"
   ]
  },
  {
   "cell_type": "code",
   "execution_count": 23,
   "id": "b44c11de",
   "metadata": {},
   "outputs": [
    {
     "data": {
      "text/plain": [
       "4    Exec-managerial\n",
       "Name: occupation, dtype: object"
      ]
     },
     "execution_count": 23,
     "metadata": {},
     "output_type": "execute_result"
    }
   ],
   "source": [
    "#df[df['salary']=='>50K']['occupation'].value_counts()\n",
    "df5 = df[df['salary']=='>50K'].groupby('occupation', as_index=False).size()\n",
    "df6 = df5.sort_values(by='size', ascending=False).head(1)\n",
    "df6['occupation']\n",
    "\n"
   ]
  },
  {
   "cell_type": "code",
   "execution_count": 24,
   "id": "d199174a",
   "metadata": {},
   "outputs": [],
   "source": [
    "import pandas as pd\n",
    "\n",
    "\n",
    "def calculate_demographic_data(print_data=True):\n",
    "    # Read data from file\n",
    "    df = pd.read_csv('data/adult.data.csv')\n",
    "\n",
    "    # How many of each race are represented in this dataset? This should be a Pandas series with race names as the index labels.\n",
    "    race_count = df['race'].value_counts()\n",
    "    \n",
    "    # What is the average age of men?\n",
    "    average_age_men = df['age'].mean()\n",
    "\n",
    "    # What is the percentage of people who have a Bachelor's degree?\n",
    "    percentage_bachelors = (df[df['education'] == 'Bachelors']['education'].count()/df['education'].count())*100\n",
    "\n",
    "    # What percentage of people with advanced education (`Bachelors`, `Masters`, or `Doctorate`) make more than 50K?\n",
    "    df2 =  df[\n",
    "        (df['education'] == 'Bachelors')| \n",
    "        (df['education'] == 'Masters') |\n",
    "        (df['education'] == 'Doctorate')]\n",
    "    \n",
    "    \n",
    "    # What percentage of people without advanced education make more than 50K?\n",
    "\n",
    "    # with and without `Bachelors`, `Masters`, or `Doctorate`\n",
    "    higher_education = df2[df2['salary'] == '>50K']['salary'].count()\n",
    "    lower_education = (df['education'].count()) - (df2[df2['salary'] == '>50K']['salary'].count())\n",
    "\n",
    "    # percentage with salary >50K\n",
    "    higher_education_rich = (df2[df2['salary'] == '>50K']['salary'].count()/df['education'].count())*100\n",
    "    lower_education_rich = (((df['education'].count()) - (df2[df2['salary'] == '>50K']['salary'].count()))/df['education'].count())*100\n",
    "\n",
    "    # What is the minimum number of hours a person works per week (hours-per-week feature)?\n",
    "    min_work_hours = df['hours-per-week'].min()\n",
    "\n",
    "    # What percentage of the people who work the minimum number of hours per week have a salary of >50K?\n",
    "    num_min_workers = (len(df[(df['hours-per-week']== df['hours-per-week'].min()) & (df['salary']== '>50K')])/(len(df)))*100\n",
    "\n",
    "    rich_percentage = 100 - (len(df[(df['hours-per-week']== df['hours-per-week'].min()) & (df['salary']== '>50K')])/(len(df)))*100\n",
    "\n",
    "    # What country has the highest percentage of people that earn >50K?\n",
    "    df_country = df[df['salary']=='>50K'].groupby('native-country',as_index=False).size()\n",
    "    highest_earning_country = df_country.sort_values(by='size', ascending=False).head(1)\n",
    "    df4 = df_country.sort_values(by='size', ascending=False).head(1)\n",
    "    \n",
    "    highest_earning_country_percentage = ((df4['size'])/(df_country['size'].sum()))*100\n",
    "                                                                                                                     \n",
    "\n",
    "    # Identify the most popular occupation for those who earn >50K in India.\n",
    "    #df[df['salary']=='>50K']['occupation'].value_counts()\n",
    "    df5 = df[df['salary']=='>50K'].groupby('occupation', as_index=False).size()\n",
    "    df6 = df5.sort_values(by='size', ascending=False).head(1)\n",
    "\n",
    "\n",
    "\n",
    "    top_IN_occupation = df6['occupation']\n",
    "\n",
    "    # DO NOT MODIFY BELOW THIS LINE\n",
    "\n",
    "    if print_data:\n",
    "        print(\"Number of each race:\\n\", race_count) \n",
    "        print(\"Average age of men:\", average_age_men)\n",
    "        print(f\"Percentage with Bachelors degrees: {percentage_bachelors}%\")\n",
    "        print(f\"Percentage with higher education that earn >50K: {higher_education_rich}%\")\n",
    "        print(f\"Percentage without higher education that earn >50K: {lower_education_rich}%\")\n",
    "        print(f\"Min work time: {min_work_hours} hours/week\")\n",
    "        print(f\"Percentage of rich among those who work fewest hours: {rich_percentage}%\")\n",
    "        print(\"Country with highest percentage of rich:\", highest_earning_country)\n",
    "        print(f\"Highest percentage of rich people in country: {highest_earning_country_percentage}%\")\n",
    "        print(\"Top occupations in India:\", top_IN_occupation)\n",
    "\n",
    "    return {\n",
    "        'race_count': race_count,\n",
    "        'average_age_men': average_age_men,\n",
    "        'percentage_bachelors': percentage_bachelors,\n",
    "        'higher_education_rich': higher_education_rich,\n",
    "        'lower_education_rich': lower_education_rich,\n",
    "        'min_work_hours': min_work_hours,\n",
    "        'rich_percentage': rich_percentage,\n",
    "        'highest_earning_country': highest_earning_country,\n",
    "        'highest_earning_country_percentage':\n",
    "        highest_earning_country_percentage,\n",
    "        'top_IN_occupation': top_IN_occupation\n",
    "    }\n"
   ]
  },
  {
   "cell_type": "code",
   "execution_count": 25,
   "id": "9aca99f3",
   "metadata": {},
   "outputs": [
    {
     "name": "stdout",
     "output_type": "stream",
     "text": [
      "Number of each race:\n",
      " White                 27816\n",
      "Black                  3124\n",
      "Asian-Pac-Islander     1039\n",
      "Amer-Indian-Eskimo      311\n",
      "Other                   271\n",
      "Name: race, dtype: int64\n",
      "Average age of men: 38.58164675532078\n",
      "Percentage with Bachelors degrees: 16.44605509658794%\n",
      "Percentage with higher education that earn >50K: 10.706059396210192%\n",
      "Percentage without higher education that earn >50K: 89.2939406037898%\n",
      "Min work time: 1 hours/week\n",
      "Percentage of rich among those who work fewest hours: 99.9938576825036%\n",
      "Country with highest percentage of rich:    native-country  size\n",
      "37  United-States  7171\n",
      "Highest percentage of rich people in country: 37    91.455172\n",
      "Name: size, dtype: float64%\n",
      "Top occupations in India: 4    Exec-managerial\n",
      "Name: occupation, dtype: object\n"
     ]
    },
    {
     "data": {
      "text/plain": [
       "{'race_count': White                 27816\n",
       " Black                  3124\n",
       " Asian-Pac-Islander     1039\n",
       " Amer-Indian-Eskimo      311\n",
       " Other                   271\n",
       " Name: race, dtype: int64,\n",
       " 'average_age_men': 38.58164675532078,\n",
       " 'percentage_bachelors': 16.44605509658794,\n",
       " 'higher_education_rich': 10.706059396210192,\n",
       " 'lower_education_rich': 89.2939406037898,\n",
       " 'min_work_hours': 1,\n",
       " 'rich_percentage': 99.9938576825036,\n",
       " 'highest_earning_country':    native-country  size\n",
       " 37  United-States  7171,\n",
       " 'highest_earning_country_percentage': 37    91.455172\n",
       " Name: size, dtype: float64,\n",
       " 'top_IN_occupation': 4    Exec-managerial\n",
       " Name: occupation, dtype: object}"
      ]
     },
     "execution_count": 25,
     "metadata": {},
     "output_type": "execute_result"
    }
   ],
   "source": [
    "calculate_demographic_data()"
   ]
  },
  {
   "cell_type": "code",
   "execution_count": null,
   "id": "d6fb4260",
   "metadata": {},
   "outputs": [],
   "source": [
    "# Final \n",
    "\n",
    "import pandas as pd\n",
    "\n",
    "\n",
    "def calculate_demographic_data(print_data=True):\n",
    "    # Read data from file\n",
    "    df = pd.read_csv('adult.data.csv')\n",
    "\n",
    "    # How many of each race are represented in this dataset? This should be a \n",
    "    # Pandas series with race names as the index labels.\n",
    "    \n",
    "    race_count = df['race'].value_counts()\n",
    "    \n",
    "    # What is the average age of men?\n",
    "    average_age_men = round(df[df['sex'] =='Male']['age'].mean(),1)\n",
    "\n",
    "    # What is the percentage of people who have a Bachelor's degree?\n",
    "    percentage_bachelors = round((df[df['education'] == 'Bachelors']['education'].count()/df['education'].count())*100,1)\n",
    "\n",
    "\n",
    "    # What percentage of people with advanced education (`Bachelors`, `Masters`, or `Doctorate`) make more than 50K?\n",
    "    higher_education =  df[\n",
    "        (df['education'] == 'Bachelors')| \n",
    "        (df['education'] == 'Masters') |\n",
    "        (df['education'] == 'Doctorate')]\n",
    "    \n",
    "    \n",
    "    # What percentage of people without advanced education make more than 50K?\n",
    "\n",
    "    # with and without `Bachelors`, `Masters`, or `Doctorate`\n",
    "    \n",
    "\n",
    "    # percentage with salary >50K\n",
    "    higher_education_rich = round((higher_education[higher_education['salary'] == '>50K']['salary'].count()/len(higher_education))*100,1)\n",
    "\n",
    "    df3 =  df[\n",
    "        (df['education'] != 'Bachelors')&\n",
    "        (df['education'] != 'Masters') &\n",
    "        (df['education'] != 'Doctorate')]\n",
    "     #df3[df3['salary'] == '>50K']['salary'].count()\n",
    "\n",
    "    lower_education_rich = round((df3[df3['salary'] == '>50K']['salary'].count()/len(df3))*100,1)\n",
    "\n",
    "    # What is the minimum number of hours a person works per week (hours-per-week feature)?\n",
    "    min_work_hours = df['hours-per-week'].min()\n",
    "\n",
    "    # What percentage of the people who work the minimum number of hours per week have a salary of >50K?\n",
    "    num_min_workers = df['hours-per-week'].min()\n",
    "    \n",
    "\n",
    "    rich_percentage = round((((df['hours-per-week']== num_min_workers) & (df['salary']== '>50K')).sum())/(df['hours-per-week']== num_min_workers).sum()*100,1)\n",
    "    \n",
    "\n",
    "    # What country has the highest percentage of people that earn >50K?\n",
    "    p = (df[df['salary'] =='>50K']['native-country'].value_counts()\n",
    "/df['native-country'].value_counts()*100).sort_values(ascending=False)\n",
    "\n",
    "\n",
    "    highest_earning_country = p.index[0]\n",
    "    highest_earning_country_percentage = round(p.iloc[0],1)\n",
    "                                                                                                                     \n",
    "\n",
    "    # Identify the most popular occupation for those who earn >50K in India.\n",
    "    \n",
    "\n",
    "\n",
    "    top_IN_occupation = df[(df['salary'] =='>50K')& (df['native-country']=='India')]['occupation'].value_counts().index[0]\n",
    "\n",
    "    # DO NOT MODIFY BELOW THIS LINE\n",
    "\n",
    "    if print_data:\n",
    "        print(\"Number of each race:\\n\", race_count) \n",
    "        print(\"Average age of men:\", average_age_men)\n",
    "        print(f\"Percentage with Bachelors degrees: {percentage_bachelors}%\")\n",
    "        print(f\"Percentage with higher education that earn >50K: {higher_education_rich}%\")\n",
    "        print(f\"Percentage without higher education that earn >50K: {lower_education_rich}%\")\n",
    "        print(f\"Min work time: {min_work_hours} hours/week\")\n",
    "        print(f\"Percentage of rich among those who work fewest hours: {rich_percentage}%\")\n",
    "        print(\"Country with highest percentage of rich:\", highest_earning_country)\n",
    "        print(f\"Highest percentage of rich people in country: {highest_earning_country_percentage}%\")\n",
    "        print(\"Top occupations in India:\", top_IN_occupation)\n",
    "\n",
    "    return {\n",
    "        'race_count': race_count,\n",
    "        'average_age_men': average_age_men,\n",
    "        'percentage_bachelors': percentage_bachelors,\n",
    "        'higher_education_rich': higher_education_rich,\n",
    "        'lower_education_rich': lower_education_rich,\n",
    "        'min_work_hours': min_work_hours,\n",
    "        'rich_percentage': rich_percentage,\n",
    "        'highest_earning_country': highest_earning_country,\n",
    "        'highest_earning_country_percentage':\n",
    "        highest_earning_country_percentage,\n",
    "        'top_IN_occupation': top_IN_occupation\n",
    "    }"
   ]
  },
  {
   "cell_type": "code",
   "execution_count": null,
   "id": "0e3d42d8",
   "metadata": {},
   "outputs": [],
   "source": []
  }
 ],
 "metadata": {
  "kernelspec": {
   "display_name": "Python 3 (ipykernel)",
   "language": "python",
   "name": "python3"
  },
  "language_info": {
   "codemirror_mode": {
    "name": "ipython",
    "version": 3
   },
   "file_extension": ".py",
   "mimetype": "text/x-python",
   "name": "python",
   "nbconvert_exporter": "python",
   "pygments_lexer": "ipython3",
   "version": "3.9.5"
  }
 },
 "nbformat": 4,
 "nbformat_minor": 5
}
