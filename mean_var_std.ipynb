{
 "cells": [
  {
   "cell_type": "code",
   "execution_count": 1,
   "id": "a96b7f7d",
   "metadata": {},
   "outputs": [],
   "source": [
    "# Importing numpy library\n",
    "import numpy as np"
   ]
  },
  {
   "cell_type": "code",
   "execution_count": 4,
   "id": "95b2537f",
   "metadata": {},
   "outputs": [],
   "source": [
    "input_list = [2,4,5,3,2,5,2,6,2]"
   ]
  },
  {
   "cell_type": "code",
   "execution_count": 31,
   "id": "f17748d5",
   "metadata": {},
   "outputs": [
    {
     "name": "stdout",
     "output_type": "stream",
     "text": [
      "[2 4 5 3 2 5 2 6 2]\n",
      "<class 'numpy.ndarray'>\n",
      "[[2 4 5]\n",
      " [3 2 5]\n",
      " [2 6 2]]\n"
     ]
    },
    {
     "data": {
      "text/plain": [
       "([2.3333333333333335, 4.0, 4.0],\n",
       " array([3.66666667, 3.33333333, 3.33333333]),\n",
       " 3.4444444444444446)"
      ]
     },
     "execution_count": 31,
     "metadata": {},
     "output_type": "execute_result"
    }
   ],
   "source": [
    "converted_list = np.array(input_list)\n",
    "print(converted_list)\n",
    "print(type(converted_list))\n",
    "arr = converted_list.reshape(3,3)\n",
    "print(arr)\n",
    "\n",
    "arr.mean(axis=0).tolist(), arr.mean(axis=1), arr.mean()\n",
    "\n",
    "\n"
   ]
  },
  {
   "cell_type": "code",
   "execution_count": 38,
   "id": "567b554f",
   "metadata": {},
   "outputs": [
    {
     "ename": "SyntaxError",
     "evalue": "invalid syntax (Temp/ipykernel_404/384297264.py, line 17)",
     "output_type": "error",
     "traceback": [
      "\u001b[1;36m  File \u001b[1;32m\"C:\\Users\\DATASC~1\\AppData\\Local\\Temp/ipykernel_404/384297264.py\"\u001b[1;36m, line \u001b[1;32m17\u001b[0m\n\u001b[1;33m    return result\u001b[0m\n\u001b[1;37m    ^\u001b[0m\n\u001b[1;31mSyntaxError\u001b[0m\u001b[1;31m:\u001b[0m invalid syntax\n"
     ]
    }
   ],
   "source": [
    "def calculate(input_list):\n",
    "    result = {}\n",
    "    try:\n",
    "        if len(input_list) < 9:\n",
    "            raise ValueError\n",
    "        else:\n",
    "            converted_list = np.array(input_list)\n",
    "            list_as_array = converted_list.reshape(3,3)\n",
    "            \n",
    "            result['mean'] = [list_as_array.mean(axis=0).tolist(), list_as_array.mean(axis=1).tolist(), list_as_array.mean().tolist()]\n",
    "            result['variance'] = [list_as_array.var(axis=0).tolist(), list_as_array.var(axis=1).tolist(), list_as_array.var().tolist()]\n",
    "            result['standard deviation'] = [list_as_array.std(axis=0).tolist(), list_as_array.std(axis=1).tolist(), list_as_array.std().tolist()]\n",
    "            result['max'] = [list_as_array.max(axis=0).tolist(), list_as_array.max(axis=1).tolist(), list_as_array.max().tolist()]\n",
    "            result['min'] = [list_as_array.min(axis=0).tolist(), list_as_array.min(axis=1).tolist(), list_as_array.min().tolist()]\n",
    "            result['sum'] = [list_as_array.sum(axis=0).tolist(), list_as_array.sum(axis=1).tolist(), list_as_array.sum().tolist()]\n",
    "            \n",
    "    return result\n",
    "#     except ValueError:\n",
    "#         print(f\"List must contain nine numbers\")"
   ]
  },
  {
   "cell_type": "code",
   "execution_count": 37,
   "id": "970e85a6",
   "metadata": {},
   "outputs": [
    {
     "data": {
      "text/plain": [
       "{'mean': [[2.3333333333333335, 4.0, 4.0],\n",
       "  [3.6666666666666665, 3.3333333333333335, 3.3333333333333335],\n",
       "  3.4444444444444446],\n",
       " 'variance': [[0.22222222222222224, 2.6666666666666665, 2.0],\n",
       "  [1.5555555555555554, 1.5555555555555554, 3.555555555555556],\n",
       "  2.2469135802469133],\n",
       " 'standard deviation': [[0.4714045207910317,\n",
       "   1.632993161855452,\n",
       "   1.4142135623730951],\n",
       "  [1.247219128924647, 1.247219128924647, 1.8856180831641267],\n",
       "  1.4989708403591155],\n",
       " 'max': [[3, 6, 5], [5, 5, 6], 6],\n",
       " 'min': [[2, 2, 2], [2, 2, 2], 2],\n",
       " 'sum': [[7, 12, 12], [11, 10, 10], 31]}"
      ]
     },
     "execution_count": 37,
     "metadata": {},
     "output_type": "execute_result"
    }
   ],
   "source": [
    "calculate(input_list)"
   ]
  },
  {
   "cell_type": "code",
   "execution_count": 34,
   "id": "a96ce119",
   "metadata": {},
   "outputs": [],
   "source": [
    "l = [3,4,4,5]"
   ]
  },
  {
   "cell_type": "code",
   "execution_count": 35,
   "id": "4f86a258",
   "metadata": {},
   "outputs": [
    {
     "name": "stdout",
     "output_type": "stream",
     "text": [
      "List must contain nine numbers\n"
     ]
    }
   ],
   "source": [
    "calculate(l)"
   ]
  },
  {
   "cell_type": "code",
   "execution_count": 43,
   "id": "2bc0afca",
   "metadata": {},
   "outputs": [
    {
     "ename": "ValueError",
     "evalue": "List must contain nine numbers.",
     "output_type": "error",
     "traceback": [
      "\u001b[1;31m---------------------------------------------------------------------------\u001b[0m",
      "\u001b[1;31mValueError\u001b[0m                                Traceback (most recent call last)",
      "\u001b[1;32mC:\\Users\\DATASC~1\\AppData\\Local\\Temp/ipykernel_404/2888533296.py\u001b[0m in \u001b[0;36m<module>\u001b[1;34m\u001b[0m\n\u001b[0;32m      1\u001b[0m \u001b[1;32mif\u001b[0m \u001b[0mlen\u001b[0m\u001b[1;33m(\u001b[0m\u001b[0ml\u001b[0m\u001b[1;33m)\u001b[0m \u001b[1;33m<\u001b[0m \u001b[1;36m9\u001b[0m\u001b[1;33m:\u001b[0m\u001b[1;33m\u001b[0m\u001b[1;33m\u001b[0m\u001b[0m\n\u001b[1;32m----> 2\u001b[1;33m     \u001b[1;32mraise\u001b[0m \u001b[0mValueError\u001b[0m\u001b[1;33m(\u001b[0m\u001b[1;34m\"List must contain nine numbers.\"\u001b[0m\u001b[1;33m)\u001b[0m\u001b[1;33m\u001b[0m\u001b[1;33m\u001b[0m\u001b[0m\n\u001b[0m",
      "\u001b[1;31mValueError\u001b[0m: List must contain nine numbers."
     ]
    }
   ],
   "source": [
    "if len(l) < 9:\n",
    "    raise ValueError(\"List must contain nine numbers.\")"
   ]
  },
  {
   "cell_type": "code",
   "execution_count": null,
   "id": "7c4f9047",
   "metadata": {},
   "outputs": [],
   "source": []
  }
 ],
 "metadata": {
  "kernelspec": {
   "display_name": "Python 3 (ipykernel)",
   "language": "python",
   "name": "python3"
  },
  "language_info": {
   "codemirror_mode": {
    "name": "ipython",
    "version": 3
   },
   "file_extension": ".py",
   "mimetype": "text/x-python",
   "name": "python",
   "nbconvert_exporter": "python",
   "pygments_lexer": "ipython3",
   "version": "3.9.5"
  }
 },
 "nbformat": 4,
 "nbformat_minor": 5
}
